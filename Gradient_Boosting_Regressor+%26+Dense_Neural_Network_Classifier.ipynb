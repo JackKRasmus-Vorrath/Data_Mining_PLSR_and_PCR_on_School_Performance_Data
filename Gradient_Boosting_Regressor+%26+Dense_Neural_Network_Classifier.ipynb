{
 "cells": [
  {
   "cell_type": "code",
   "execution_count": null,
   "metadata": {
    "collapsed": true
   },
   "outputs": [],
   "source": [
    "#Same import and cleaning procedure as in previous labs"
   ]
  },
  {
   "cell_type": "code",
   "execution_count": 1,
   "metadata": {
    "collapsed": true
   },
   "outputs": [],
   "source": [
    "import pandas as pd\n",
    "import numpy as np\n",
    "import matplotlib.pyplot as plt\n",
    "import seaborn as sns\n",
    "\n",
    "%matplotlib inline\n",
    "\n",
    "\n",
    "#Read in raw data\n",
    "schoolData = pd.read_csv('C:/Users/jkras/Desktop/All_Data_By_School_Final.csv',low_memory=False)\n",
    "testScores = pd.read_csv('C:/Users/jkras/Desktop/1516testresults_masking_removed.csv', low_memory=False)\n",
    "raceData = pd.read_csv('C:/Users/jkras/Desktop/Ec_Pupils_Expanded (2017 Race Compositions by School).csv',low_memory=False)"
   ]
  },
  {
   "cell_type": "code",
   "execution_count": 2,
   "metadata": {
    "collapsed": false
   },
   "outputs": [
    {
     "name": "stderr",
     "output_type": "stream",
     "text": [
      "C:\\Users\\jkras\\Anaconda3\\lib\\site-packages\\pandas\\core\\frame.py:2834: SettingWithCopyWarning: \n",
      "A value is trying to be set on a copy of a slice from a DataFrame\n",
      "\n",
      "See the caveats in the documentation: http://pandas.pydata.org/pandas-docs/stable/indexing.html#indexing-view-versus-copy\n",
      "  **kwargs)\n"
     ]
    },
    {
     "data": {
      "text/plain": [
       "(2579, 352)"
      ]
     },
     "execution_count": 2,
     "metadata": {},
     "output_type": "execute_result"
    }
   ],
   "source": [
    "#gotta merge 'em all!\n",
    "piv_test = pd.pivot_table(testScores, values='Percent GLP',index=['School Code'],columns='Subject')\n",
    "\n",
    "piv_test.index.name = 'unit_code'\n",
    "\n",
    "piv_test.columns = [str(col) + '_GLP' for col in piv_test.columns]\n",
    "\n",
    "piv_alltest = piv_test.reset_index()\n",
    "\n",
    "schoolData_alltest = schoolData.merge(piv_alltest,how='left',on='unit_code')\n",
    "\n",
    "\n",
    "\n",
    "racecols = ['Indian Male', 'Indian Female', 'Asian Male',\n",
    "       'Asian Female', 'Hispanic Male', 'Hispanic Female', 'Black Male',\n",
    "       'Black Female', 'White Male', 'White Female', 'Pacific Island Male',\n",
    "       'Pacific Island Female', 'Two or  More Male', 'Two or  More Female',\n",
    "       'Total', 'White', 'Black', 'Hispanic', 'Indian', 'Asian',\n",
    "       'Pacific Island', 'Two or More', 'White_Pct', 'Majority_Minority']\n",
    "\n",
    "racecols_renamed = [str(col) + '_RACE' for col in racecols]\n",
    "\n",
    "racecol_rename_dict = {i:j for i,j in zip(racecols,racecols_renamed)}\n",
    "\n",
    "raceData.rename(index=str, columns=racecol_rename_dict,inplace=True)\n",
    "\n",
    "raceData['unit_code'] = raceData['unit_code'].apply(str)\n",
    "\n",
    "for i,j in raceData.iterrows():\n",
    "    \n",
    "    if len(raceData['unit_code'][i]) == 5:\n",
    "        raceData.loc[i, 'unit_code'] = '0' + raceData['unit_code'][i]\n",
    "        \n",
    "\n",
    "schoolData_testRace = schoolData_alltest.merge(raceData,how='left',on='unit_code')\n",
    "\n",
    "\n",
    "\n",
    "\n",
    "region_df = testScores[['School Code','SBE District']]\n",
    "\n",
    "region_df.rename(index=str, columns={'School Code':'unit_code'},inplace=True)\n",
    "\n",
    "region_df_unique = region_df.drop_duplicates()\n",
    "\n",
    "schoolData_testRaceRegion = schoolData_testRace.merge(region_df_unique,how='left',on='unit_code')\n",
    "\n",
    "schoolData_testRaceRegion.shape"
   ]
  },
  {
   "cell_type": "code",
   "execution_count": 3,
   "metadata": {
    "collapsed": true
   },
   "outputs": [],
   "source": [
    "#expenditures variable list\n",
    "exp_list = ['lea_total_expense_num','lea_salary_expense_pct','lea_benefits_expense_pct','lea_services_expense_pct',\n",
    "'lea_supplies_expense_pct','lea_instruct_equip_exp_pct']\n",
    "\n",
    "#teacher qualifications variable list\n",
    "teach_list = ['flicensed_teach_pct', 'tchyrs_0thru3_pct', 'tchyrs_4thru10_pct', 'tchyrs_11plus_pct', 'class_teach_num', 'nbpts_num', 'advance_dgr_pct',\n",
    "'_1yr_tchr_trnovr_pct', 'emer_prov_teach_pct', 'lateral_teach_pct', 'highqual_class_pct', 'lea_flicensed_teach_pct',\n",
    "'lea_tchyrs_0thru3_pct', 'lea_tchyrs_4thru10_pct', 'lea_tchyrs_11plus_pct', 'lea_class_teach_num', 'lea_nbpts_num', 'lea_advance_dgr_pct',\n",
    "'lea_1yr_tchr_trnovr_pct', 'lea_emer_prov_teach_pct', 'lea_lateral_teach_pct', 'lea_highqual_class_pct', 'lea_highqual_class_hp_pct',\n",
    "'lea_highqual_class_lp_pct', 'lea_highqual_class_all_pct', 'lea_not_highqual_class_hp_pct', 'lea_not_highqual_class_lp_pct',\n",
    "'lea_not_highqual_class_all_pct']\n",
    "\n",
    "#performance scores list\n",
    "grade_list = ['SPG Score', 'Reading  SPG Score', 'Math SPG Score', 'EVAAS Growth Score', 'Overall Achievement Score', 'Read Score', 'Math Score',\n",
    "'Science Score', 'Math I Score', 'English II Score', 'Biology Score', 'The ACT Score', 'ACT WorkKeys Score', 'Math Course Rigor Score',\n",
    "'Cohort Graduation Rate Standard Score']"
   ]
  },
  {
   "cell_type": "code",
   "execution_count": 4,
   "metadata": {
    "collapsed": false
   },
   "outputs": [
    {
     "data": {
      "text/plain": [
       "(2579, 1)"
      ]
     },
     "execution_count": 4,
     "metadata": {},
     "output_type": "execute_result"
    }
   ],
   "source": [
    "#alias full data set, merged from 3 CSV files\n",
    "all_df = schoolData_testRaceRegion\n",
    "\n",
    "#cast SBE district to categorical to generate dummy indicators, dropping reference level, and concatenating to full data set (original SBE District feature will be dropped below)\n",
    "all_df['SBE District'] = all_df['SBE District'].astype('category')\n",
    "Coded_District = pd.get_dummies(all_df['SBE District'],drop_first=True)\n",
    "all_df = pd.concat([all_df,Coded_District],axis=1)\n",
    "\n",
    "\n",
    "#scale the SPG Score feature\n",
    "all_df['SPG Score Scaled'] = all_df['SPG Score']*(.01)\n",
    "pd.Series.to_frame(all_df['SPG Score Scaled']).shape"
   ]
  },
  {
   "cell_type": "code",
   "execution_count": 5,
   "metadata": {
    "collapsed": false
   },
   "outputs": [
    {
     "data": {
      "text/plain": [
       "(2579, 360)"
      ]
     },
     "execution_count": 5,
     "metadata": {},
     "output_type": "execute_result"
    }
   ],
   "source": [
    "#mean impute missing scaled SPG Score on region-wise basis; where no regional data, mean impute across all regions\n",
    "mean_filled = all_df.groupby('SBE District')['SPG Score Scaled'].transform('mean')\n",
    "all_df['SPG Score Scaled'] = all_df['SPG Score Scaled'].fillna(mean_filled)\n",
    "\n",
    "all_df['SPG Score Scaled'] = pd.Series.to_frame(all_df['SPG Score Scaled']).fillna(pd.Series.to_frame(all_df['SPG Score Scaled']).mean())\n",
    "\n",
    "all_df.shape"
   ]
  },
  {
   "cell_type": "code",
   "execution_count": 6,
   "metadata": {
    "collapsed": false
   },
   "outputs": [
    {
     "data": {
      "text/plain": [
       "(2419, 63)"
      ]
     },
     "execution_count": 6,
     "metadata": {},
     "output_type": "execute_result"
    }
   ],
   "source": [
    "#column names from Race data, used for subsetting below\n",
    "racecols = ['Indian Male', 'Indian Female', 'Asian Male',\n",
    "       'Asian Female', 'Hispanic Male', 'Hispanic Female', 'Black Male',\n",
    "       'Black Female', 'White Male', 'White Female', 'Pacific Island Male',\n",
    "       'Pacific Island Female', 'Two or  More Male', 'Two or  More Female',\n",
    "       'Total', 'White', 'Black', 'Hispanic', 'Indian', 'Asian',\n",
    "       'Pacific Island', 'Two or More', 'White_Pct', 'Majority_Minority']\n",
    "\n",
    "#suffixing Race columns for clarity\n",
    "racecols_renamed = [str(col) + '_RACE' for col in racecols]\n",
    "\n",
    "\n",
    "#creating full list of column names for subsetting below\n",
    "logsvm_list_excludeDistrict = teach_list + exp_list + ['SPG Score Scaled'] + ['Northeast Region', 'Northwest Region', 'Piedmont Triad Region', 'SandHills Region', 'Southeast Region', 'Southwest Region', 'Western Region']\n",
    "\n",
    "\n",
    "#NA values for the features below are arguably too numerous to mean impute\n",
    "logsvm_list_excludeDistrict.remove('emer_prov_teach_pct')\n",
    "\n",
    "logsvm_list_excludeDistrict.remove('lateral_teach_pct')\n",
    "\n",
    "logsvm_list_excludeDistrict.remove('lea_emer_prov_teach_pct')\n",
    "\n",
    "#for filtering the features of the all_df data frame below\n",
    "logsvm_list_noDistrict_race = logsvm_list_excludeDistrict + racecols_renamed\n",
    "\n",
    "\n",
    "\n",
    "\n",
    "#subset features of interest for mean imputation for-block below\n",
    "all_df_nocharter = all_df[all_df['type_cd_txt'] != 'Charter']\n",
    "logsvm_df = all_df_nocharter[logsvm_list_noDistrict_race]\n",
    "logsvm_df.shape\n"
   ]
  },
  {
   "cell_type": "code",
   "execution_count": 7,
   "metadata": {
    "collapsed": false
   },
   "outputs": [
    {
     "data": {
      "text/plain": [
       "(2419, 63)"
      ]
     },
     "execution_count": 7,
     "metadata": {},
     "output_type": "execute_result"
    }
   ],
   "source": [
    "#mean impute missing values on region-wise basis for all features of interest; where no regional data, mean impute across all regions\n",
    "for col,name in zip(logsvm_df.T.values,logsvm_df.columns):\n",
    "    if pd.isnull(col).any():\n",
    "        mean_fill_col = all_df.groupby('SBE District')[name].transform('mean')\n",
    "        all_df[name] = all_df[name].fillna(mean_fill_col)\n",
    "        \n",
    "        all_df[name] = pd.Series.to_frame(all_df[name]).fillna(pd.Series.to_frame(all_df[name]).mean())\n",
    "\n",
    "\n",
    "#re-subset features of interest after mean imputation above\n",
    "\n",
    "all_df_nocharter = all_df[all_df['type_cd_txt'] != 'Charter']\n",
    "all_df_nocharter.shape\n",
    "logsvm_df = all_df_nocharter[logsvm_list_noDistrict_race]\n",
    "logsvm_df.shape"
   ]
  },
  {
   "cell_type": "code",
   "execution_count": 8,
   "metadata": {
    "collapsed": false
   },
   "outputs": [
    {
     "data": {
      "text/plain": [
       "51"
      ]
     },
     "execution_count": 8,
     "metadata": {},
     "output_type": "execute_result"
    }
   ],
   "source": [
    "#remove 15 records without Race data\n",
    "logsvm_df = logsvm_df[logsvm_df['Total_RACE'].notnull()]\n",
    "\n",
    "\n",
    "\n",
    "#create percentages\n",
    "logsvm_df['Indian_RACE_Pct'] = logsvm_df['Indian_RACE']/logsvm_df['Total_RACE']\n",
    "logsvm_df['Asian_RACE_Pct'] = logsvm_df['Asian_RACE']/logsvm_df['Total_RACE']\n",
    "logsvm_df['Hispanic_RACE_Pct'] = logsvm_df['Hispanic_RACE']/logsvm_df['Total_RACE']\n",
    "logsvm_df['Black_RACE_Pct'] = logsvm_df['Black_RACE']/logsvm_df['Total_RACE']\n",
    "logsvm_df['Pacific Island_RACE_Pct'] = logsvm_df['Pacific Island_RACE']/logsvm_df['Total_RACE']\n",
    "logsvm_df['Two or More_RACE_Pct'] = logsvm_df['Two or More_RACE']/logsvm_df['Total_RACE']\n",
    "\n",
    "#masking variables to avoid division-by-zero errors\n",
    "mask_Indian = (logsvm_df['Indian Male_RACE'] == 0) & (logsvm_df['Indian_RACE'] == 0)\n",
    "mask_Asian = (logsvm_df['Asian Male_RACE'] == 0) & (logsvm_df['Asian_RACE'] == 0)\n",
    "mask_Hispanic = (logsvm_df['Hispanic Male_RACE'] == 0) & (logsvm_df['Hispanic_RACE'] == 0)\n",
    "mask_Black = (logsvm_df['Black Male_RACE'] == 0) & (logsvm_df['Black_RACE'] == 0)\n",
    "mask_White = (logsvm_df['White Male_RACE'] == 0) & (logsvm_df['White_RACE'] == 0)\n",
    "mask_Pacific = (logsvm_df['Pacific Island Male_RACE'] == 0) & (logsvm_df['Pacific Island_RACE'] == 0)\n",
    "mask_TwoRace = (logsvm_df['Two or  More Male_RACE'] == 0) & (logsvm_df['Two or More_RACE'] == 0)\n",
    "\n",
    "#create gender percentages\n",
    "logsvm_df['Indian_RACE_Male_Pct'] = logsvm_df['Indian Male_RACE'].div(logsvm_df['Indian_RACE']).where(~mask_Indian,0)\n",
    "logsvm_df['Asian_RACE_Male_Pct'] = logsvm_df['Asian Male_RACE'].div(logsvm_df['Asian_RACE']).where(~mask_Asian,0)\n",
    "logsvm_df['Hispanic_RACE_Male_Pct'] = logsvm_df['Hispanic Male_RACE'].div(logsvm_df['Hispanic_RACE']).where(~mask_Hispanic,0)\n",
    "logsvm_df['Black_RACE_Male_Pct'] = logsvm_df['Black Male_RACE'].div(logsvm_df['Black_RACE']).where(~mask_Black,0)\n",
    "logsvm_df['White_RACE_Male_Pct'] = logsvm_df['White Male_RACE'].div(logsvm_df['White_RACE']).where(~mask_White,0)\n",
    "logsvm_df['Pacific_Island_RACE_Male_Pct'] = logsvm_df['Pacific Island Male_RACE'].div(logsvm_df['Pacific Island_RACE']).where(~mask_Pacific,0)\n",
    "logsvm_df['Two_or_More_RACE_Male_Pct'] = logsvm_df['Two or  More Male_RACE'].div(logsvm_df['Two or More_RACE']).where(~mask_TwoRace,0)\n",
    "\n",
    "\n",
    "#drop multicolinear features\n",
    "logsvm_df.drop(['Indian_RACE','Asian_RACE','Hispanic_RACE','Black_RACE','White_RACE','Pacific Island_RACE','Two or More_RACE',\n",
    "                       'Indian Male_RACE','Asian Male_RACE','Hispanic Male_RACE','Black Male_RACE','White Male_RACE','Pacific Island Male_RACE','Two or  More Male_RACE',\n",
    "                       'Indian Female_RACE','Asian Female_RACE','Hispanic Female_RACE','Black Female_RACE','White Female_RACE','Pacific Island Female_RACE','Two or  More Female_RACE','Total_RACE'],\n",
    "              axis=1,inplace=True)\n",
    "\n",
    "logsvm_df.drop(['lea_not_highqual_class_hp_pct', 'lea_not_highqual_class_lp_pct','lea_not_highqual_class_all_pct'],\n",
    "              axis=1,inplace=True)\n",
    "\n",
    "#check it out\n",
    "len(logsvm_df.columns)"
   ]
  },
  {
   "cell_type": "code",
   "execution_count": 9,
   "metadata": {
    "collapsed": false
   },
   "outputs": [
    {
     "name": "stdout",
     "output_type": "stream",
     "text": [
      "\n",
      " ****** Percentage of missing values in each attributes ********\n",
      "\n",
      " flicensed_teach_pct             0.0\n",
      "tchyrs_0thru3_pct               0.0\n",
      "tchyrs_4thru10_pct              0.0\n",
      "tchyrs_11plus_pct               0.0\n",
      "class_teach_num                 0.0\n",
      "nbpts_num                       0.0\n",
      "advance_dgr_pct                 0.0\n",
      "_1yr_tchr_trnovr_pct            0.0\n",
      "highqual_class_pct              0.0\n",
      "lea_flicensed_teach_pct         0.0\n",
      "lea_tchyrs_0thru3_pct           0.0\n",
      "lea_tchyrs_4thru10_pct          0.0\n",
      "lea_tchyrs_11plus_pct           0.0\n",
      "lea_class_teach_num             0.0\n",
      "lea_nbpts_num                   0.0\n",
      "lea_advance_dgr_pct             0.0\n",
      "lea_1yr_tchr_trnovr_pct         0.0\n",
      "lea_lateral_teach_pct           0.0\n",
      "lea_highqual_class_pct          0.0\n",
      "lea_highqual_class_hp_pct       0.0\n",
      "lea_highqual_class_lp_pct       0.0\n",
      "lea_highqual_class_all_pct      0.0\n",
      "lea_total_expense_num           0.0\n",
      "lea_salary_expense_pct          0.0\n",
      "lea_benefits_expense_pct        0.0\n",
      "lea_services_expense_pct        0.0\n",
      "lea_supplies_expense_pct        0.0\n",
      "lea_instruct_equip_exp_pct      0.0\n",
      "SPG Score Scaled                0.0\n",
      "Northeast Region                0.0\n",
      "Northwest Region                0.0\n",
      "Piedmont Triad Region           0.0\n",
      "SandHills Region                0.0\n",
      "Southeast Region                0.0\n",
      "Southwest Region                0.0\n",
      "Western Region                  0.0\n",
      "White_Pct_RACE                  0.0\n",
      "Majority_Minority_RACE          0.0\n",
      "Indian_RACE_Pct                 0.0\n",
      "Asian_RACE_Pct                  0.0\n",
      "Hispanic_RACE_Pct               0.0\n",
      "Black_RACE_Pct                  0.0\n",
      "Pacific Island_RACE_Pct         0.0\n",
      "Two or More_RACE_Pct            0.0\n",
      "Indian_RACE_Male_Pct            0.0\n",
      "Asian_RACE_Male_Pct             0.0\n",
      "Hispanic_RACE_Male_Pct          0.0\n",
      "Black_RACE_Male_Pct             0.0\n",
      "White_RACE_Male_Pct             0.0\n",
      "Pacific_Island_RACE_Male_Pct    0.0\n",
      "Two_or_More_RACE_Male_Pct       0.0\n",
      "dtype: float64\n"
     ]
    }
   ],
   "source": [
    "#check null value percentages\n",
    "NA_report = logsvm_df.apply(lambda x: (sum(x.isnull().values)/len(x))*100, axis = 0)\n",
    "with pd.option_context('display.max_rows', None):\n",
    "    print(\"\\n ****** Percentage of missing values in each attributes ********\\n\\n\",NA_report)"
   ]
  },
  {
   "cell_type": "code",
   "execution_count": 10,
   "metadata": {
    "collapsed": true
   },
   "outputs": [],
   "source": [
    "#preparing dataframes for train-test-split to build models\n",
    "#separate target variable and predictors\n",
    "X = logsvm_df.astype(np.float32)\n",
    "X = X.drop('SPG Score Scaled',axis=1)\n",
    "y = logsvm_df['SPG Score Scaled']"
   ]
  },
  {
   "cell_type": "code",
   "execution_count": 11,
   "metadata": {
    "collapsed": true
   },
   "outputs": [],
   "source": [
    "#scale training predictors\n",
    "from sklearn.preprocessing import StandardScaler\n",
    "scaler = StandardScaler()\n",
    "scaler.fit(X)\n",
    "X = scaler.transform(X)"
   ]
  },
  {
   "cell_type": "code",
   "execution_count": 12,
   "metadata": {
    "collapsed": true
   },
   "outputs": [],
   "source": [
    "#train-test-split, 80% training data\n",
    "from sklearn.model_selection import train_test_split\n",
    "indices = range(2419)\n",
    "\n",
    "X_train, X_test, y_train, y_test, indices_train, indices_test = train_test_split(X, y,indices,test_size=0.2, random_state=23233)"
   ]
  },
  {
   "cell_type": "code",
   "execution_count": 14,
   "metadata": {
    "collapsed": false
   },
   "outputs": [],
   "source": [
    "#grid search it, bro\n",
    "from sklearn import ensemble\n",
    "from sklearn.metrics import mean_squared_error\n",
    "from sklearn.model_selection import GridSearchCV\n",
    "\n",
    "#gimme those params\n",
    "n_est = [300,400,500,600]\n",
    "max_dep = [3,4,5]\n",
    "min_split = [2,3]\n",
    "lrn_rate = [0.01,0.05,0.1]\n",
    "losses = ['ls','lad']\n",
    "\n",
    "#plug 'em in\n",
    "parameters = {'n_estimators': n_est, 'max_depth': max_dep, 'min_samples_split': min_split,\n",
    "          'learning_rate': lrn_rate, 'loss': losses}"
   ]
  },
  {
   "cell_type": "code",
   "execution_count": 16,
   "metadata": {
    "collapsed": false
   },
   "outputs": [
    {
     "name": "stdout",
     "output_type": "stream",
     "text": [
      "GridSearchCV(cv=5, error_score='raise',\n",
      "       estimator=GradientBoostingRegressor(alpha=0.9, criterion='friedman_mse', init=None,\n",
      "             learning_rate=0.1, loss='ls', max_depth=3, max_features=None,\n",
      "             max_leaf_nodes=None, min_impurity_decrease=0.0,\n",
      "             min_impurity_split=None, min_samples_leaf=1,\n",
      "             min_samples_split=2, min_weight_fraction_leaf=0.0,\n",
      "             n_estimators=100, presort='auto', random_state=None,\n",
      "             subsample=1.0, verbose=0, warm_start=False),\n",
      "       fit_params=None, iid=True, n_jobs=1,\n",
      "       param_grid={'n_estimators': [300, 400, 500, 600], 'max_depth': [3, 4, 5], 'min_samples_split': [2, 3], 'learning_rate': [0.01, 0.05, 0.1], 'loss': ['ls', 'lad']},\n",
      "       pre_dispatch='2*n_jobs', refit=True, return_train_score='warn',\n",
      "       scoring=None, verbose=0)\n"
     ]
    }
   ],
   "source": [
    "#build the classifier, stick in grid search\n",
    "gbr = ensemble.GradientBoostingRegressor()\n",
    "clf = GridSearchCV(gbr,parameters,cv=5)\n",
    "#print(y_train.shape)\n",
    "#print(X_train.shape)\n",
    "print(clf)"
   ]
  },
  {
   "cell_type": "code",
   "execution_count": 17,
   "metadata": {
    "collapsed": false
   },
   "outputs": [
    {
     "data": {
      "text/plain": [
       "GridSearchCV(cv=5, error_score='raise',\n",
       "       estimator=GradientBoostingRegressor(alpha=0.9, criterion='friedman_mse', init=None,\n",
       "             learning_rate=0.1, loss='ls', max_depth=3, max_features=None,\n",
       "             max_leaf_nodes=None, min_impurity_decrease=0.0,\n",
       "             min_impurity_split=None, min_samples_leaf=1,\n",
       "             min_samples_split=2, min_weight_fraction_leaf=0.0,\n",
       "             n_estimators=100, presort='auto', random_state=None,\n",
       "             subsample=1.0, verbose=0, warm_start=False),\n",
       "       fit_params=None, iid=True, n_jobs=1,\n",
       "       param_grid={'n_estimators': [300, 400, 500, 600], 'max_depth': [3, 4, 5], 'min_samples_split': [2, 3], 'learning_rate': [0.01, 0.05, 0.1], 'loss': ['ls', 'lad']},\n",
       "       pre_dispatch='2*n_jobs', refit=True, return_train_score='warn',\n",
       "       scoring=None, verbose=0)"
      ]
     },
     "execution_count": 17,
     "metadata": {},
     "output_type": "execute_result"
    }
   ],
   "source": [
    "#fit the model\n",
    "clf.fit(X_train,y_train)"
   ]
  },
  {
   "cell_type": "code",
   "execution_count": 18,
   "metadata": {
    "collapsed": false
   },
   "outputs": [
    {
     "data": {
      "text/plain": [
       "GradientBoostingRegressor(alpha=0.9, criterion='friedman_mse', init=None,\n",
       "             learning_rate=0.05, loss='ls', max_depth=3, max_features=None,\n",
       "             max_leaf_nodes=None, min_impurity_decrease=0.0,\n",
       "             min_impurity_split=None, min_samples_leaf=1,\n",
       "             min_samples_split=3, min_weight_fraction_leaf=0.0,\n",
       "             n_estimators=500, presort='auto', random_state=None,\n",
       "             subsample=1.0, verbose=0, warm_start=False)"
      ]
     },
     "execution_count": 18,
     "metadata": {},
     "output_type": "execute_result"
    }
   ],
   "source": [
    "#one estimator to rule them all\n",
    "clf.best_estimator_"
   ]
  },
  {
   "cell_type": "code",
   "execution_count": 19,
   "metadata": {
    "collapsed": true
   },
   "outputs": [],
   "source": [
    "#generate predictions\n",
    "predictions = clf.predict(X_test)"
   ]
  },
  {
   "cell_type": "code",
   "execution_count": 20,
   "metadata": {
    "collapsed": false
   },
   "outputs": [
    {
     "name": "stdout",
     "output_type": "stream",
     "text": [
      "MSE: 0.0060\n"
     ]
    }
   ],
   "source": [
    "#let's see how we did\n",
    "mse = mean_squared_error(y_test, clf.predict(X_test))\n",
    "print(\"MSE: %.4f\" % mse)"
   ]
  },
  {
   "cell_type": "code",
   "execution_count": 21,
   "metadata": {
    "collapsed": false
   },
   "outputs": [
    {
     "data": {
      "text/plain": [
       "{'learning_rate': 0.05,\n",
       " 'loss': 'ls',\n",
       " 'max_depth': 3,\n",
       " 'min_samples_split': 3,\n",
       " 'n_estimators': 500}"
      ]
     },
     "execution_count": 21,
     "metadata": {},
     "output_type": "execute_result"
    }
   ],
   "source": [
    "#best parameters\n",
    "clf.best_params_"
   ]
  },
  {
   "cell_type": "code",
   "execution_count": 22,
   "metadata": {
    "collapsed": false
   },
   "outputs": [
    {
     "data": {
      "text/plain": [
       "0.60956634137481425"
      ]
     },
     "execution_count": 22,
     "metadata": {},
     "output_type": "execute_result"
    }
   ],
   "source": [
    "#player 1 hi-score\n",
    "clf.best_score_"
   ]
  },
  {
   "cell_type": "code",
   "execution_count": 24,
   "metadata": {
    "collapsed": false
   },
   "outputs": [
    {
     "name": "stderr",
     "output_type": "stream",
     "text": [
      "C:\\Users\\jkras\\Anaconda3\\lib\\site-packages\\sklearn\\model_selection\\_search.py:761: DeprecationWarning: The grid_scores_ attribute was deprecated in version 0.18 in favor of the more elaborate cv_results_ attribute. The grid_scores_ attribute will not be available from 0.20\n",
      "  DeprecationWarning)\n"
     ]
    },
    {
     "data": {
      "text/plain": [
       "[mean: 0.53699, std: 0.02072, params: {'learning_rate': 0.01, 'loss': 'ls', 'max_depth': 3, 'min_samples_split': 2, 'n_estimators': 300},\n",
       " mean: 0.55936, std: 0.01939, params: {'learning_rate': 0.01, 'loss': 'ls', 'max_depth': 3, 'min_samples_split': 2, 'n_estimators': 400},\n",
       " mean: 0.57232, std: 0.02021, params: {'learning_rate': 0.01, 'loss': 'ls', 'max_depth': 3, 'min_samples_split': 2, 'n_estimators': 500},\n",
       " mean: 0.58146, std: 0.02126, params: {'learning_rate': 0.01, 'loss': 'ls', 'max_depth': 3, 'min_samples_split': 2, 'n_estimators': 600},\n",
       " mean: 0.53687, std: 0.02070, params: {'learning_rate': 0.01, 'loss': 'ls', 'max_depth': 3, 'min_samples_split': 3, 'n_estimators': 300},\n",
       " mean: 0.55947, std: 0.01944, params: {'learning_rate': 0.01, 'loss': 'ls', 'max_depth': 3, 'min_samples_split': 3, 'n_estimators': 400},\n",
       " mean: 0.57260, std: 0.02006, params: {'learning_rate': 0.01, 'loss': 'ls', 'max_depth': 3, 'min_samples_split': 3, 'n_estimators': 500},\n",
       " mean: 0.58139, std: 0.02163, params: {'learning_rate': 0.01, 'loss': 'ls', 'max_depth': 3, 'min_samples_split': 3, 'n_estimators': 600},\n",
       " mean: 0.55840, std: 0.02588, params: {'learning_rate': 0.01, 'loss': 'ls', 'max_depth': 4, 'min_samples_split': 2, 'n_estimators': 300},\n",
       " mean: 0.57735, std: 0.02646, params: {'learning_rate': 0.01, 'loss': 'ls', 'max_depth': 4, 'min_samples_split': 2, 'n_estimators': 400},\n",
       " mean: 0.58689, std: 0.02754, params: {'learning_rate': 0.01, 'loss': 'ls', 'max_depth': 4, 'min_samples_split': 2, 'n_estimators': 500},\n",
       " mean: 0.59336, std: 0.02942, params: {'learning_rate': 0.01, 'loss': 'ls', 'max_depth': 4, 'min_samples_split': 2, 'n_estimators': 600},\n",
       " mean: 0.55929, std: 0.02609, params: {'learning_rate': 0.01, 'loss': 'ls', 'max_depth': 4, 'min_samples_split': 3, 'n_estimators': 300},\n",
       " mean: 0.57733, std: 0.02631, params: {'learning_rate': 0.01, 'loss': 'ls', 'max_depth': 4, 'min_samples_split': 3, 'n_estimators': 400},\n",
       " mean: 0.58684, std: 0.02736, params: {'learning_rate': 0.01, 'loss': 'ls', 'max_depth': 4, 'min_samples_split': 3, 'n_estimators': 500},\n",
       " mean: 0.59252, std: 0.02915, params: {'learning_rate': 0.01, 'loss': 'ls', 'max_depth': 4, 'min_samples_split': 3, 'n_estimators': 600},\n",
       " mean: 0.57502, std: 0.02570, params: {'learning_rate': 0.01, 'loss': 'ls', 'max_depth': 5, 'min_samples_split': 2, 'n_estimators': 300},\n",
       " mean: 0.58845, std: 0.02660, params: {'learning_rate': 0.01, 'loss': 'ls', 'max_depth': 5, 'min_samples_split': 2, 'n_estimators': 400},\n",
       " mean: 0.59545, std: 0.02629, params: {'learning_rate': 0.01, 'loss': 'ls', 'max_depth': 5, 'min_samples_split': 2, 'n_estimators': 500},\n",
       " mean: 0.59997, std: 0.02624, params: {'learning_rate': 0.01, 'loss': 'ls', 'max_depth': 5, 'min_samples_split': 2, 'n_estimators': 600},\n",
       " mean: 0.57570, std: 0.02400, params: {'learning_rate': 0.01, 'loss': 'ls', 'max_depth': 5, 'min_samples_split': 3, 'n_estimators': 300},\n",
       " mean: 0.58936, std: 0.02546, params: {'learning_rate': 0.01, 'loss': 'ls', 'max_depth': 5, 'min_samples_split': 3, 'n_estimators': 400},\n",
       " mean: 0.59499, std: 0.02552, params: {'learning_rate': 0.01, 'loss': 'ls', 'max_depth': 5, 'min_samples_split': 3, 'n_estimators': 500},\n",
       " mean: 0.60067, std: 0.02613, params: {'learning_rate': 0.01, 'loss': 'ls', 'max_depth': 5, 'min_samples_split': 3, 'n_estimators': 600},\n",
       " mean: 0.50501, std: 0.01528, params: {'learning_rate': 0.01, 'loss': 'lad', 'max_depth': 3, 'min_samples_split': 2, 'n_estimators': 300},\n",
       " mean: 0.52935, std: 0.01559, params: {'learning_rate': 0.01, 'loss': 'lad', 'max_depth': 3, 'min_samples_split': 2, 'n_estimators': 400},\n",
       " mean: 0.54598, std: 0.01494, params: {'learning_rate': 0.01, 'loss': 'lad', 'max_depth': 3, 'min_samples_split': 2, 'n_estimators': 500},\n",
       " mean: 0.55751, std: 0.01449, params: {'learning_rate': 0.01, 'loss': 'lad', 'max_depth': 3, 'min_samples_split': 2, 'n_estimators': 600},\n",
       " mean: 0.50487, std: 0.01526, params: {'learning_rate': 0.01, 'loss': 'lad', 'max_depth': 3, 'min_samples_split': 3, 'n_estimators': 300},\n",
       " mean: 0.53005, std: 0.01435, params: {'learning_rate': 0.01, 'loss': 'lad', 'max_depth': 3, 'min_samples_split': 3, 'n_estimators': 400},\n",
       " mean: 0.54471, std: 0.01547, params: {'learning_rate': 0.01, 'loss': 'lad', 'max_depth': 3, 'min_samples_split': 3, 'n_estimators': 500},\n",
       " mean: 0.55831, std: 0.01517, params: {'learning_rate': 0.01, 'loss': 'lad', 'max_depth': 3, 'min_samples_split': 3, 'n_estimators': 600},\n",
       " mean: 0.53543, std: 0.01339, params: {'learning_rate': 0.01, 'loss': 'lad', 'max_depth': 4, 'min_samples_split': 2, 'n_estimators': 300},\n",
       " mean: 0.55456, std: 0.01554, params: {'learning_rate': 0.01, 'loss': 'lad', 'max_depth': 4, 'min_samples_split': 2, 'n_estimators': 400},\n",
       " mean: 0.56780, std: 0.01500, params: {'learning_rate': 0.01, 'loss': 'lad', 'max_depth': 4, 'min_samples_split': 2, 'n_estimators': 500},\n",
       " mean: 0.57528, std: 0.01512, params: {'learning_rate': 0.01, 'loss': 'lad', 'max_depth': 4, 'min_samples_split': 2, 'n_estimators': 600},\n",
       " mean: 0.53133, std: 0.01593, params: {'learning_rate': 0.01, 'loss': 'lad', 'max_depth': 4, 'min_samples_split': 3, 'n_estimators': 300},\n",
       " mean: 0.55483, std: 0.01425, params: {'learning_rate': 0.01, 'loss': 'lad', 'max_depth': 4, 'min_samples_split': 3, 'n_estimators': 400},\n",
       " mean: 0.56733, std: 0.01618, params: {'learning_rate': 0.01, 'loss': 'lad', 'max_depth': 4, 'min_samples_split': 3, 'n_estimators': 500},\n",
       " mean: 0.57463, std: 0.01536, params: {'learning_rate': 0.01, 'loss': 'lad', 'max_depth': 4, 'min_samples_split': 3, 'n_estimators': 600},\n",
       " mean: 0.55168, std: 0.01632, params: {'learning_rate': 0.01, 'loss': 'lad', 'max_depth': 5, 'min_samples_split': 2, 'n_estimators': 300},\n",
       " mean: 0.57209, std: 0.01598, params: {'learning_rate': 0.01, 'loss': 'lad', 'max_depth': 5, 'min_samples_split': 2, 'n_estimators': 400},\n",
       " mean: 0.58245, std: 0.01608, params: {'learning_rate': 0.01, 'loss': 'lad', 'max_depth': 5, 'min_samples_split': 2, 'n_estimators': 500},\n",
       " mean: 0.58636, std: 0.01608, params: {'learning_rate': 0.01, 'loss': 'lad', 'max_depth': 5, 'min_samples_split': 2, 'n_estimators': 600},\n",
       " mean: 0.55436, std: 0.01476, params: {'learning_rate': 0.01, 'loss': 'lad', 'max_depth': 5, 'min_samples_split': 3, 'n_estimators': 300},\n",
       " mean: 0.57357, std: 0.01552, params: {'learning_rate': 0.01, 'loss': 'lad', 'max_depth': 5, 'min_samples_split': 3, 'n_estimators': 400},\n",
       " mean: 0.58030, std: 0.01729, params: {'learning_rate': 0.01, 'loss': 'lad', 'max_depth': 5, 'min_samples_split': 3, 'n_estimators': 500},\n",
       " mean: 0.58560, std: 0.01754, params: {'learning_rate': 0.01, 'loss': 'lad', 'max_depth': 5, 'min_samples_split': 3, 'n_estimators': 600},\n",
       " mean: 0.60551, std: 0.02828, params: {'learning_rate': 0.05, 'loss': 'ls', 'max_depth': 3, 'min_samples_split': 2, 'n_estimators': 300},\n",
       " mean: 0.60574, std: 0.03212, params: {'learning_rate': 0.05, 'loss': 'ls', 'max_depth': 3, 'min_samples_split': 2, 'n_estimators': 400},\n",
       " mean: 0.60507, std: 0.03394, params: {'learning_rate': 0.05, 'loss': 'ls', 'max_depth': 3, 'min_samples_split': 2, 'n_estimators': 500},\n",
       " mean: 0.60415, std: 0.03591, params: {'learning_rate': 0.05, 'loss': 'ls', 'max_depth': 3, 'min_samples_split': 2, 'n_estimators': 600},\n",
       " mean: 0.60643, std: 0.02870, params: {'learning_rate': 0.05, 'loss': 'ls', 'max_depth': 3, 'min_samples_split': 3, 'n_estimators': 300},\n",
       " mean: 0.60865, std: 0.03102, params: {'learning_rate': 0.05, 'loss': 'ls', 'max_depth': 3, 'min_samples_split': 3, 'n_estimators': 400},\n",
       " mean: 0.60957, std: 0.03396, params: {'learning_rate': 0.05, 'loss': 'ls', 'max_depth': 3, 'min_samples_split': 3, 'n_estimators': 500},\n",
       " mean: 0.60827, std: 0.03534, params: {'learning_rate': 0.05, 'loss': 'ls', 'max_depth': 3, 'min_samples_split': 3, 'n_estimators': 600},\n",
       " mean: 0.60174, std: 0.03295, params: {'learning_rate': 0.05, 'loss': 'ls', 'max_depth': 4, 'min_samples_split': 2, 'n_estimators': 300},\n",
       " mean: 0.60062, std: 0.03294, params: {'learning_rate': 0.05, 'loss': 'ls', 'max_depth': 4, 'min_samples_split': 2, 'n_estimators': 400},\n",
       " mean: 0.59908, std: 0.03451, params: {'learning_rate': 0.05, 'loss': 'ls', 'max_depth': 4, 'min_samples_split': 2, 'n_estimators': 500},\n",
       " mean: 0.59649, std: 0.03514, params: {'learning_rate': 0.05, 'loss': 'ls', 'max_depth': 4, 'min_samples_split': 2, 'n_estimators': 600},\n",
       " mean: 0.59819, std: 0.03004, params: {'learning_rate': 0.05, 'loss': 'ls', 'max_depth': 4, 'min_samples_split': 3, 'n_estimators': 300},\n",
       " mean: 0.59739, std: 0.03059, params: {'learning_rate': 0.05, 'loss': 'ls', 'max_depth': 4, 'min_samples_split': 3, 'n_estimators': 400},\n",
       " mean: 0.59808, std: 0.03131, params: {'learning_rate': 0.05, 'loss': 'ls', 'max_depth': 4, 'min_samples_split': 3, 'n_estimators': 500},\n",
       " mean: 0.59889, std: 0.03196, params: {'learning_rate': 0.05, 'loss': 'ls', 'max_depth': 4, 'min_samples_split': 3, 'n_estimators': 600},\n",
       " mean: 0.59970, std: 0.02524, params: {'learning_rate': 0.05, 'loss': 'ls', 'max_depth': 5, 'min_samples_split': 2, 'n_estimators': 300},\n",
       " mean: 0.59996, std: 0.02640, params: {'learning_rate': 0.05, 'loss': 'ls', 'max_depth': 5, 'min_samples_split': 2, 'n_estimators': 400},\n",
       " mean: 0.59972, std: 0.02641, params: {'learning_rate': 0.05, 'loss': 'ls', 'max_depth': 5, 'min_samples_split': 2, 'n_estimators': 500},\n",
       " mean: 0.59859, std: 0.02711, params: {'learning_rate': 0.05, 'loss': 'ls', 'max_depth': 5, 'min_samples_split': 2, 'n_estimators': 600},\n",
       " mean: 0.60507, std: 0.02846, params: {'learning_rate': 0.05, 'loss': 'ls', 'max_depth': 5, 'min_samples_split': 3, 'n_estimators': 300},\n",
       " mean: 0.60310, std: 0.03043, params: {'learning_rate': 0.05, 'loss': 'ls', 'max_depth': 5, 'min_samples_split': 3, 'n_estimators': 400},\n",
       " mean: 0.60391, std: 0.03024, params: {'learning_rate': 0.05, 'loss': 'ls', 'max_depth': 5, 'min_samples_split': 3, 'n_estimators': 500},\n",
       " mean: 0.60354, std: 0.03120, params: {'learning_rate': 0.05, 'loss': 'ls', 'max_depth': 5, 'min_samples_split': 3, 'n_estimators': 600},\n",
       " mean: 0.58363, std: 0.01720, params: {'learning_rate': 0.05, 'loss': 'lad', 'max_depth': 3, 'min_samples_split': 2, 'n_estimators': 300},\n",
       " mean: 0.58266, std: 0.01908, params: {'learning_rate': 0.05, 'loss': 'lad', 'max_depth': 3, 'min_samples_split': 2, 'n_estimators': 400},\n",
       " mean: 0.59061, std: 0.02001, params: {'learning_rate': 0.05, 'loss': 'lad', 'max_depth': 3, 'min_samples_split': 2, 'n_estimators': 500},\n",
       " mean: 0.58764, std: 0.02215, params: {'learning_rate': 0.05, 'loss': 'lad', 'max_depth': 3, 'min_samples_split': 2, 'n_estimators': 600},\n",
       " mean: 0.58474, std: 0.01931, params: {'learning_rate': 0.05, 'loss': 'lad', 'max_depth': 3, 'min_samples_split': 3, 'n_estimators': 300},\n",
       " mean: 0.58823, std: 0.01819, params: {'learning_rate': 0.05, 'loss': 'lad', 'max_depth': 3, 'min_samples_split': 3, 'n_estimators': 400},\n",
       " mean: 0.59305, std: 0.01902, params: {'learning_rate': 0.05, 'loss': 'lad', 'max_depth': 3, 'min_samples_split': 3, 'n_estimators': 500},\n",
       " mean: 0.58730, std: 0.01814, params: {'learning_rate': 0.05, 'loss': 'lad', 'max_depth': 3, 'min_samples_split': 3, 'n_estimators': 600},\n",
       " mean: 0.59367, std: 0.01048, params: {'learning_rate': 0.05, 'loss': 'lad', 'max_depth': 4, 'min_samples_split': 2, 'n_estimators': 300},\n",
       " mean: 0.59035, std: 0.01626, params: {'learning_rate': 0.05, 'loss': 'lad', 'max_depth': 4, 'min_samples_split': 2, 'n_estimators': 400},\n",
       " mean: 0.59224, std: 0.01357, params: {'learning_rate': 0.05, 'loss': 'lad', 'max_depth': 4, 'min_samples_split': 2, 'n_estimators': 500},\n",
       " mean: 0.59458, std: 0.02011, params: {'learning_rate': 0.05, 'loss': 'lad', 'max_depth': 4, 'min_samples_split': 2, 'n_estimators': 600},\n",
       " mean: 0.59039, std: 0.01938, params: {'learning_rate': 0.05, 'loss': 'lad', 'max_depth': 4, 'min_samples_split': 3, 'n_estimators': 300},\n",
       " mean: 0.59126, std: 0.01824, params: {'learning_rate': 0.05, 'loss': 'lad', 'max_depth': 4, 'min_samples_split': 3, 'n_estimators': 400},\n",
       " mean: 0.59614, std: 0.02079, params: {'learning_rate': 0.05, 'loss': 'lad', 'max_depth': 4, 'min_samples_split': 3, 'n_estimators': 500},\n",
       " mean: 0.59075, std: 0.01617, params: {'learning_rate': 0.05, 'loss': 'lad', 'max_depth': 4, 'min_samples_split': 3, 'n_estimators': 600},\n",
       " mean: 0.59848, std: 0.01365, params: {'learning_rate': 0.05, 'loss': 'lad', 'max_depth': 5, 'min_samples_split': 2, 'n_estimators': 300},\n",
       " mean: 0.60102, std: 0.01390, params: {'learning_rate': 0.05, 'loss': 'lad', 'max_depth': 5, 'min_samples_split': 2, 'n_estimators': 400},\n",
       " mean: 0.59829, std: 0.02580, params: {'learning_rate': 0.05, 'loss': 'lad', 'max_depth': 5, 'min_samples_split': 2, 'n_estimators': 500},\n",
       " mean: 0.60064, std: 0.01672, params: {'learning_rate': 0.05, 'loss': 'lad', 'max_depth': 5, 'min_samples_split': 2, 'n_estimators': 600},\n",
       " mean: 0.59925, std: 0.01613, params: {'learning_rate': 0.05, 'loss': 'lad', 'max_depth': 5, 'min_samples_split': 3, 'n_estimators': 300},\n",
       " mean: 0.59734, std: 0.01846, params: {'learning_rate': 0.05, 'loss': 'lad', 'max_depth': 5, 'min_samples_split': 3, 'n_estimators': 400},\n",
       " mean: 0.59934, std: 0.02048, params: {'learning_rate': 0.05, 'loss': 'lad', 'max_depth': 5, 'min_samples_split': 3, 'n_estimators': 500},\n",
       " mean: 0.60305, std: 0.01219, params: {'learning_rate': 0.05, 'loss': 'lad', 'max_depth': 5, 'min_samples_split': 3, 'n_estimators': 600},\n",
       " mean: 0.59998, std: 0.03520, params: {'learning_rate': 0.1, 'loss': 'ls', 'max_depth': 3, 'min_samples_split': 2, 'n_estimators': 300},\n",
       " mean: 0.59769, std: 0.03527, params: {'learning_rate': 0.1, 'loss': 'ls', 'max_depth': 3, 'min_samples_split': 2, 'n_estimators': 400},\n",
       " mean: 0.59495, std: 0.03544, params: {'learning_rate': 0.1, 'loss': 'ls', 'max_depth': 3, 'min_samples_split': 2, 'n_estimators': 500},\n",
       " mean: 0.59170, std: 0.03702, params: {'learning_rate': 0.1, 'loss': 'ls', 'max_depth': 3, 'min_samples_split': 2, 'n_estimators': 600},\n",
       " mean: 0.60080, std: 0.03823, params: {'learning_rate': 0.1, 'loss': 'ls', 'max_depth': 3, 'min_samples_split': 3, 'n_estimators': 300},\n",
       " mean: 0.59842, std: 0.03873, params: {'learning_rate': 0.1, 'loss': 'ls', 'max_depth': 3, 'min_samples_split': 3, 'n_estimators': 400},\n",
       " mean: 0.59833, std: 0.03759, params: {'learning_rate': 0.1, 'loss': 'ls', 'max_depth': 3, 'min_samples_split': 3, 'n_estimators': 500},\n",
       " mean: 0.59773, std: 0.03895, params: {'learning_rate': 0.1, 'loss': 'ls', 'max_depth': 3, 'min_samples_split': 3, 'n_estimators': 600},\n",
       " mean: 0.59758, std: 0.03474, params: {'learning_rate': 0.1, 'loss': 'ls', 'max_depth': 4, 'min_samples_split': 2, 'n_estimators': 300},\n",
       " mean: 0.59787, std: 0.03742, params: {'learning_rate': 0.1, 'loss': 'ls', 'max_depth': 4, 'min_samples_split': 2, 'n_estimators': 400},\n",
       " mean: 0.59459, std: 0.03773, params: {'learning_rate': 0.1, 'loss': 'ls', 'max_depth': 4, 'min_samples_split': 2, 'n_estimators': 500},\n",
       " mean: 0.59443, std: 0.03643, params: {'learning_rate': 0.1, 'loss': 'ls', 'max_depth': 4, 'min_samples_split': 2, 'n_estimators': 600},\n",
       " mean: 0.59161, std: 0.04018, params: {'learning_rate': 0.1, 'loss': 'ls', 'max_depth': 4, 'min_samples_split': 3, 'n_estimators': 300},\n",
       " mean: 0.58903, std: 0.03987, params: {'learning_rate': 0.1, 'loss': 'ls', 'max_depth': 4, 'min_samples_split': 3, 'n_estimators': 400},\n",
       " mean: 0.59073, std: 0.03667, params: {'learning_rate': 0.1, 'loss': 'ls', 'max_depth': 4, 'min_samples_split': 3, 'n_estimators': 500},\n",
       " mean: 0.58961, std: 0.03803, params: {'learning_rate': 0.1, 'loss': 'ls', 'max_depth': 4, 'min_samples_split': 3, 'n_estimators': 600},\n",
       " mean: 0.59680, std: 0.03184, params: {'learning_rate': 0.1, 'loss': 'ls', 'max_depth': 5, 'min_samples_split': 2, 'n_estimators': 300},\n",
       " mean: 0.59675, std: 0.03087, params: {'learning_rate': 0.1, 'loss': 'ls', 'max_depth': 5, 'min_samples_split': 2, 'n_estimators': 400},\n",
       " mean: 0.59543, std: 0.02978, params: {'learning_rate': 0.1, 'loss': 'ls', 'max_depth': 5, 'min_samples_split': 2, 'n_estimators': 500},\n",
       " mean: 0.59650, std: 0.03244, params: {'learning_rate': 0.1, 'loss': 'ls', 'max_depth': 5, 'min_samples_split': 2, 'n_estimators': 600},\n",
       " mean: 0.59766, std: 0.02814, params: {'learning_rate': 0.1, 'loss': 'ls', 'max_depth': 5, 'min_samples_split': 3, 'n_estimators': 300},\n",
       " mean: 0.59584, std: 0.02627, params: {'learning_rate': 0.1, 'loss': 'ls', 'max_depth': 5, 'min_samples_split': 3, 'n_estimators': 400},\n",
       " mean: 0.59725, std: 0.02841, params: {'learning_rate': 0.1, 'loss': 'ls', 'max_depth': 5, 'min_samples_split': 3, 'n_estimators': 500},\n",
       " mean: 0.59528, std: 0.02939, params: {'learning_rate': 0.1, 'loss': 'ls', 'max_depth': 5, 'min_samples_split': 3, 'n_estimators': 600},\n",
       " mean: 0.57912, std: 0.02285, params: {'learning_rate': 0.1, 'loss': 'lad', 'max_depth': 3, 'min_samples_split': 2, 'n_estimators': 300},\n",
       " mean: 0.58591, std: 0.02359, params: {'learning_rate': 0.1, 'loss': 'lad', 'max_depth': 3, 'min_samples_split': 2, 'n_estimators': 400},\n",
       " mean: 0.58588, std: 0.02395, params: {'learning_rate': 0.1, 'loss': 'lad', 'max_depth': 3, 'min_samples_split': 2, 'n_estimators': 500},\n",
       " mean: 0.58903, std: 0.02110, params: {'learning_rate': 0.1, 'loss': 'lad', 'max_depth': 3, 'min_samples_split': 2, 'n_estimators': 600},\n",
       " mean: 0.58688, std: 0.02377, params: {'learning_rate': 0.1, 'loss': 'lad', 'max_depth': 3, 'min_samples_split': 3, 'n_estimators': 300},\n",
       " mean: 0.59267, std: 0.01959, params: {'learning_rate': 0.1, 'loss': 'lad', 'max_depth': 3, 'min_samples_split': 3, 'n_estimators': 400},\n",
       " mean: 0.58663, std: 0.01792, params: {'learning_rate': 0.1, 'loss': 'lad', 'max_depth': 3, 'min_samples_split': 3, 'n_estimators': 500},\n",
       " mean: 0.59016, std: 0.02493, params: {'learning_rate': 0.1, 'loss': 'lad', 'max_depth': 3, 'min_samples_split': 3, 'n_estimators': 600},\n",
       " mean: 0.59545, std: 0.01729, params: {'learning_rate': 0.1, 'loss': 'lad', 'max_depth': 4, 'min_samples_split': 2, 'n_estimators': 300},\n",
       " mean: 0.58980, std: 0.01795, params: {'learning_rate': 0.1, 'loss': 'lad', 'max_depth': 4, 'min_samples_split': 2, 'n_estimators': 400},\n",
       " mean: 0.59171, std: 0.02242, params: {'learning_rate': 0.1, 'loss': 'lad', 'max_depth': 4, 'min_samples_split': 2, 'n_estimators': 500},\n",
       " mean: 0.59695, std: 0.01696, params: {'learning_rate': 0.1, 'loss': 'lad', 'max_depth': 4, 'min_samples_split': 2, 'n_estimators': 600},\n",
       " mean: 0.59306, std: 0.01498, params: {'learning_rate': 0.1, 'loss': 'lad', 'max_depth': 4, 'min_samples_split': 3, 'n_estimators': 300},\n",
       " mean: 0.59633, std: 0.02110, params: {'learning_rate': 0.1, 'loss': 'lad', 'max_depth': 4, 'min_samples_split': 3, 'n_estimators': 400},\n",
       " mean: 0.59421, std: 0.02259, params: {'learning_rate': 0.1, 'loss': 'lad', 'max_depth': 4, 'min_samples_split': 3, 'n_estimators': 500},\n",
       " mean: 0.59313, std: 0.01888, params: {'learning_rate': 0.1, 'loss': 'lad', 'max_depth': 4, 'min_samples_split': 3, 'n_estimators': 600},\n",
       " mean: 0.59088, std: 0.02145, params: {'learning_rate': 0.1, 'loss': 'lad', 'max_depth': 5, 'min_samples_split': 2, 'n_estimators': 300},\n",
       " mean: 0.59007, std: 0.02086, params: {'learning_rate': 0.1, 'loss': 'lad', 'max_depth': 5, 'min_samples_split': 2, 'n_estimators': 400},\n",
       " mean: 0.58819, std: 0.02524, params: {'learning_rate': 0.1, 'loss': 'lad', 'max_depth': 5, 'min_samples_split': 2, 'n_estimators': 500},\n",
       " mean: 0.60141, std: 0.02291, params: {'learning_rate': 0.1, 'loss': 'lad', 'max_depth': 5, 'min_samples_split': 2, 'n_estimators': 600},\n",
       " mean: 0.59377, std: 0.02251, params: {'learning_rate': 0.1, 'loss': 'lad', 'max_depth': 5, 'min_samples_split': 3, 'n_estimators': 300},\n",
       " mean: 0.58986, std: 0.02450, params: {'learning_rate': 0.1, 'loss': 'lad', 'max_depth': 5, 'min_samples_split': 3, 'n_estimators': 400},\n",
       " mean: 0.59696, std: 0.02766, params: {'learning_rate': 0.1, 'loss': 'lad', 'max_depth': 5, 'min_samples_split': 3, 'n_estimators': 500},\n",
       " mean: 0.59739, std: 0.02880, params: {'learning_rate': 0.1, 'loss': 'lad', 'max_depth': 5, 'min_samples_split': 3, 'n_estimators': 600}]"
      ]
     },
     "execution_count": 24,
     "metadata": {},
     "output_type": "execute_result"
    }
   ],
   "source": [
    "#how about all the other scores\n",
    "clf.grid_scores_"
   ]
  },
  {
   "cell_type": "code",
   "execution_count": null,
   "metadata": {
    "collapsed": true
   },
   "outputs": [],
   "source": []
  },
  {
   "cell_type": "code",
   "execution_count": null,
   "metadata": {
    "collapsed": true
   },
   "outputs": [],
   "source": []
  },
  {
   "cell_type": "code",
   "execution_count": 62,
   "metadata": {
    "collapsed": false
   },
   "outputs": [
    {
     "name": "stdout",
     "output_type": "stream",
     "text": [
      "MSE: 0.0058\n"
     ]
    }
   ],
   "source": [
    "#let's reign in those parameters a bit; probably didn't need all that firepower\n",
    "params = {'n_estimators': 100, 'max_depth': 4, 'min_samples_split':2,\n",
    "          'learning_rate': 0.05, 'loss': 'ls'}\n",
    "\n",
    "#create classifier instance with specified parameters\n",
    "clf_2 = ensemble.GradientBoostingRegressor(**params)\n",
    "\n",
    "#create indices, in case we need 'em\n",
    "indices = range(2419)\n",
    "\n",
    "#train_test lickity-split\n",
    "X_train, X_test, y_train, y_test, indices_train, indices_test = train_test_split(X, y, indices, test_size=0.2, random_state=111)\n",
    "\n",
    "#and fit\n",
    "clf_2.fit(X_train, y_train)\n",
    "\n",
    "#how'd we do?\n",
    "mse = mean_squared_error(y_test, clf_2.predict(X_test))\n",
    "print(\"MSE: %.4f\" % mse)"
   ]
  },
  {
   "cell_type": "code",
   "execution_count": null,
   "metadata": {
    "collapsed": true
   },
   "outputs": [],
   "source": []
  },
  {
   "cell_type": "code",
   "execution_count": null,
   "metadata": {
    "collapsed": true
   },
   "outputs": [],
   "source": []
  },
  {
   "cell_type": "code",
   "execution_count": 75,
   "metadata": {
    "collapsed": false
   },
   "outputs": [
    {
     "data": {
      "text/plain": [
       "<matplotlib.text.Text at 0x2aa714e0f28>"
      ]
     },
     "execution_count": 75,
     "metadata": {},
     "output_type": "execute_result"
    },
    {
     "data": {
      "image/png": "[encoded data removed]",
      "text/plain": [
       "<matplotlib.figure.Figure at 0x2aa716e8978>"
      ]
     },
     "metadata": {},
     "output_type": "display_data"
    }
   ],
   "source": [
    "# Plot training/testing deviance\n",
    "\n",
    "#array of zeros in which to put test scores\n",
    "test_score = np.zeros((params['n_estimators'],), dtype=np.float64)\n",
    "\n",
    "#fill in those test scores at every boosting iteration\n",
    "for i, y_pred in enumerate(clf_2.staged_predict(X_test)):\n",
    "    test_score[i] = clf_2.loss_(y_test, y_pred)\n",
    "\n",
    "#plot it out, with the number of estimators used\n",
    "plt.figure(figsize=(12, 6))\n",
    "plt.title('Deviance')\n",
    "plt.plot(np.arange(params['n_estimators']) + 1, clf_2.train_score_, 'b-',\n",
    "         label='Training Set Deviance')\n",
    "plt.plot(np.arange(params['n_estimators']) + 1, test_score, 'r-',\n",
    "         label='Test Set Deviance')\n",
    "plt.legend(loc='upper right')\n",
    "plt.xlabel('Boosting Iterations')\n",
    "plt.ylabel('Deviance')"
   ]
  },
  {
   "cell_type": "code",
   "execution_count": null,
   "metadata": {
    "collapsed": true
   },
   "outputs": [],
   "source": []
  },
  {
   "cell_type": "code",
   "execution_count": null,
   "metadata": {
    "collapsed": true
   },
   "outputs": [],
   "source": []
  },
  {
   "cell_type": "code",
   "execution_count": 80,
   "metadata": {
    "collapsed": false
   },
   "outputs": [
    {
     "data": {
      "text/plain": [
       "array([ 0.00957129,  0.03583796,  0.00512699,  0.0045813 ,  0.0517185 ,\n",
       "        0.02825033,  0.01605835,  0.02256224,  0.01843135,  0.01870447,\n",
       "        0.01349302,  0.00752772,  0.01874239,  0.05446586,  0.02401003,\n",
       "        0.01263269,  0.02000506,  0.00837534,  0.01502949,  0.01476165,\n",
       "        0.01853339,  0.02088   ,  0.02732348,  0.01965504,  0.00640381,\n",
       "        0.00101919,  0.00929086,  0.01739444,  0.00154485,  0.007058  ,\n",
       "        0.00281645,  0.00407876,  0.00151392,  0.00335048,  0.001283  ,\n",
       "        0.14351774,  0.        ,  0.01265814,  0.07954778,  0.05174929,\n",
       "        0.04830863,  0.00270841,  0.01494642,  0.00157944,  0.00335395,\n",
       "        0.01006613,  0.05254498,  0.0238654 ,  0.00095741,  0.01216456])"
      ]
     },
     "execution_count": 80,
     "metadata": {},
     "output_type": "execute_result"
    }
   ],
   "source": [
    "#how important were the features? Note: non-parametric regressor means no positive/negative coefficients!\n",
    "clf_2.feature_importances_"
   ]
  },
  {
   "cell_type": "code",
   "execution_count": null,
   "metadata": {
    "collapsed": true
   },
   "outputs": [],
   "source": []
  },
  {
   "cell_type": "code",
   "execution_count": 86,
   "metadata": {
    "collapsed": false
   },
   "outputs": [],
   "source": [
    "#storing the importances\n",
    "feature_importance = clf_2.feature_importances_\n",
    "\n",
    "#scaling importances by their maximum value\n",
    "feature_importance = 100.0 * (feature_importance / feature_importance.max())\n",
    "\n",
    "#sorting 'em for neat plotting\n",
    "sorted_idx = np.argsort(feature_importance)\n",
    "\n",
    "#gimme a little bit of extra space on the y-axis of that plot\n",
    "pos = np.arange(sorted_idx.shape[0]) + .5"
   ]
  },
  {
   "cell_type": "code",
   "execution_count": 87,
   "metadata": {
    "collapsed": false
   },
   "outputs": [
    {
     "data": {
      "image/png": "[encoded data removed]",
      "text/plain": [
       "<matplotlib.figure.Figure at 0x2aa71f74be0>"
      ]
     },
     "metadata": {},
     "output_type": "display_data"
    }
   ],
   "source": [
    "plt.figure(figsize=(12, 12))\n",
    "\n",
    "#turn it sideways\n",
    "plt.barh(pos, feature_importance[sorted_idx], align='center')\n",
    "\n",
    "#note: gotta make the features an array before we sort 'em\n",
    "plt.yticks(pos, np.asarray(list(logsvm_df.columns))[sorted_idx])\n",
    "plt.xlabel('Relative Importance as Percentage of Maximum')\n",
    "plt.title('Variable Importance')\n",
    "plt.show()"
   ]
  },
  {
   "cell_type": "code",
   "execution_count": null,
   "metadata": {
    "collapsed": true
   },
   "outputs": [],
   "source": []
  },
  {
   "cell_type": "code",
   "execution_count": 88,
   "metadata": {
    "collapsed": false
   },
   "outputs": [
    {
     "data": {
      "image/png": "[encoded data removed]",
      "text/plain": [
       "<matplotlib.figure.Figure at 0x2aa71b44ef0>"
      ]
     },
     "metadata": {},
     "output_type": "display_data"
    }
   ],
   "source": [
    "#let's see that again! -- this time, with raw feature importance values\n",
    "feature_importance = clf_2.feature_importances_\n",
    "sorted_idx = np.argsort(feature_importance)\n",
    "pos = np.arange(sorted_idx.shape[0]) + .5\n",
    "\n",
    "plt.figure(figsize=(12, 12))\n",
    "plt.barh(pos, feature_importance[sorted_idx], align='center')\n",
    "plt.yticks(pos, np.asarray(list(logsvm_df.columns))[sorted_idx])\n",
    "plt.xlabel('Feature Weights')\n",
    "plt.title('Variable Importance')\n",
    "plt.show()"
   ]
  },
  {
   "cell_type": "code",
   "execution_count": null,
   "metadata": {
    "collapsed": true
   },
   "outputs": [],
   "source": []
  },
  {
   "cell_type": "code",
   "execution_count": 133,
   "metadata": {
    "collapsed": true
   },
   "outputs": [],
   "source": [
    "#RECURSIVE FEATURE ELIMINATION & REMODELING w/ MOST IMPORTANT FEATURES"
   ]
  },
  {
   "cell_type": "code",
   "execution_count": 134,
   "metadata": {
    "collapsed": true
   },
   "outputs": [],
   "source": [
    "#NOTE: GRADIENT BOOSTING REGRESSION IS NON-PARAMETRIC -- NO FEATURE COEFFICIENTS CAN BE RETRIEVED, ONLY FEATURE IMPORTANCES!"
   ]
  },
  {
   "cell_type": "code",
   "execution_count": 135,
   "metadata": {
    "collapsed": true
   },
   "outputs": [],
   "source": [
    "#CF: https://stackoverflow.com/questions/47106385/determine-why-features-are-important-in-decision-tree-models"
   ]
  },
  {
   "cell_type": "code",
   "execution_count": 136,
   "metadata": {
    "collapsed": true
   },
   "outputs": [],
   "source": [
    "#NOTE ALSO: FURTHER EXPLORATION OF POSITIVE/NEGATIVE FEATURE INFLUENCE ON THE TARGET VARIABLE \n",
    "#                  CAN BE CONDUCTED THROUGH PARTIAL DEPEDENCE PLOTS"
   ]
  },
  {
   "cell_type": "code",
   "execution_count": 137,
   "metadata": {
    "collapsed": true
   },
   "outputs": [],
   "source": [
    "#CF: http://rstudio-pubs-static.s3.amazonaws.com/283647_c3ab1ccee95a403ebe3d276599a85ab8.html"
   ]
  },
  {
   "cell_type": "code",
   "execution_count": 138,
   "metadata": {
    "collapsed": true
   },
   "outputs": [],
   "source": [
    "#(WE WOULD HAVE TO SEE HOW THIS IS DONE IN PYTHON, FOR PURPOSES OF INTERPRETATION)"
   ]
  },
  {
   "cell_type": "code",
   "execution_count": null,
   "metadata": {
    "collapsed": true
   },
   "outputs": [],
   "source": []
  },
  {
   "cell_type": "code",
   "execution_count": 94,
   "metadata": {
    "collapsed": true
   },
   "outputs": [],
   "source": [
    "#let's see if we can pare those features down\n",
    "\n",
    "#indices and train-test-lickity-split-and-quit\n",
    "indices = range(2419)\n",
    "\n",
    "X_train, X_test, y_train, y_test, indices_train, indices_test = train_test_split(X, y, indices, test_size=0.2, random_state=1111)"
   ]
  },
  {
   "cell_type": "code",
   "execution_count": 106,
   "metadata": {
    "collapsed": false
   },
   "outputs": [
    {
     "data": {
      "text/plain": [
       "Pipeline(memory=None,\n",
       "     steps=[('rfe_cv', RFECV(cv=KFold(n_splits=10, random_state=None, shuffle=False),\n",
       "   estimator=GradientBoostingRegressor(alpha=0.9, criterion='friedman_mse', init=None,\n",
       "             learning_rate=0.05, loss='ls', max_depth=4, max_features=None,\n",
       "             max_leaf_nodes=None, min_impurity_decrease=...s=100, presort='auto', random_state=None,\n",
       "             subsample=1.0, verbose=0, warm_start=False))])"
      ]
     },
     "execution_count": 106,
     "metadata": {},
     "output_type": "execute_result"
    }
   ],
   "source": [
    "#scikit learn is our friend\n",
    "from sklearn.feature_selection import RFECV\n",
    "from sklearn.model_selection import KFold\n",
    "from sklearn.pipeline import Pipeline\n",
    "\n",
    "#same parameters as above\n",
    "params = {'n_estimators': 100, 'max_depth': 4, 'min_samples_split':2,\n",
    "          'learning_rate': 0.05, 'loss': 'ls'}\n",
    "\n",
    "#build classifier instance w/ specified parameters\n",
    "clf_3 = ensemble.GradientBoostingRegressor(**params)\n",
    "\n",
    "#plug it into recursive feature elimination with 10-fold cross-validation and MSE scoring metric\n",
    "rfecv = RFECV(estimator=clf_3, step=1, cv=KFold(10), scoring='neg_mean_squared_error')\n",
    "\n",
    "#pipeline is gonna help us retrieve the feature names\n",
    "#name your classifier and estimator whatever you want, and stick em in tuples\n",
    "pipeline = Pipeline([\n",
    "    ('rfe_cv',rfecv),\n",
    "    ('clf',clf_3)\n",
    "])\n",
    "\n",
    "#fit that pipe, bro\n",
    "pipeline.fit(X_train, y_train)"
   ]
  },
  {
   "cell_type": "code",
   "execution_count": 121,
   "metadata": {
    "collapsed": false
   },
   "outputs": [
    {
     "name": "stdout",
     "output_type": "stream",
     "text": [
      "MSE: 0.0078\n"
     ]
    }
   ],
   "source": [
    "#how'd we do on the test set?\n",
    "mse = mean_squared_error(y_test, rfecv.predict(X_test))\n",
    "print(\"MSE: %.4f\" % mse)"
   ]
  },
  {
   "cell_type": "code",
   "execution_count": 118,
   "metadata": {
    "collapsed": false
   },
   "outputs": [
    {
     "name": "stdout",
     "output_type": "stream",
     "text": [
      "Optimal number of features : 19\n"
     ]
    }
   ],
   "source": [
    "#how many features did we really need?\n",
    "print(\"Optimal number of features : %d\" % rfecv.n_features_)"
   ]
  },
  {
   "cell_type": "code",
   "execution_count": 113,
   "metadata": {
    "collapsed": true
   },
   "outputs": [],
   "source": [
    "#the .named_steps attribute from the pipeline can be indexed with whatever you named your RFECV estimator\n",
    "#from there you use the .support_ attribute to help you get the feature names\n",
    "#note: support_feat is just a boolean mask you can apply to the full array of features to get just the ones used by the model\n",
    "support_feat = pipeline.named_steps['rfe_cv'].support_"
   ]
  },
  {
   "cell_type": "code",
   "execution_count": 116,
   "metadata": {
    "collapsed": false
   },
   "outputs": [],
   "source": [
    "#aliasing that full array of features\n",
    "feat_names = np.array(list(logsvm_df.drop('SPG Score Scaled',axis=1).columns))"
   ]
  },
  {
   "cell_type": "code",
   "execution_count": 117,
   "metadata": {
    "collapsed": false
   },
   "outputs": [
    {
     "data": {
      "text/plain": [
       "array(['tchyrs_0thru3_pct', 'class_teach_num', 'nbpts_num',\n",
       "       '_1yr_tchr_trnovr_pct', 'highqual_class_pct',\n",
       "       'lea_tchyrs_11plus_pct', 'lea_class_teach_num',\n",
       "       'lea_1yr_tchr_trnovr_pct', 'lea_highqual_class_pct',\n",
       "       'lea_highqual_class_lp_pct', 'lea_highqual_class_all_pct',\n",
       "       'lea_supplies_expense_pct', 'lea_instruct_equip_exp_pct',\n",
       "       'White_Pct_RACE', 'Asian_RACE_Pct', 'Hispanic_RACE_Pct',\n",
       "       'Black_RACE_Pct', 'Black_RACE_Male_Pct', 'White_RACE_Male_Pct'], \n",
       "      dtype='<U28')"
      ]
     },
     "execution_count": 117,
     "metadata": {},
     "output_type": "execute_result"
    }
   ],
   "source": [
    "#and pulling out the feature names with boolean masking\n",
    "feat_names[support_feat]"
   ]
  },
  {
   "cell_type": "code",
   "execution_count": 119,
   "metadata": {
    "collapsed": false
   },
   "outputs": [
    {
     "data": {
      "image/png": "[encoded data removed]",
      "text/plain": [
       "<matplotlib.figure.Figure at 0x2aa71eb4748>"
      ]
     },
     "metadata": {},
     "output_type": "display_data"
    }
   ],
   "source": [
    "#checking out the curve of those cross-validation scores-- not getting out any extra juice after around 19 features\n",
    "plt.figure()\n",
    "plt.xlabel(\"Number of features selected\")\n",
    "plt.ylabel(\"Cross validation score\")\n",
    "plt.plot(range(1, len(rfecv.grid_scores_) + 1), rfecv.grid_scores_)\n",
    "plt.show()"
   ]
  },
  {
   "cell_type": "code",
   "execution_count": null,
   "metadata": {
    "collapsed": false
   },
   "outputs": [],
   "source": []
  },
  {
   "cell_type": "code",
   "execution_count": 139,
   "metadata": {
    "collapsed": true
   },
   "outputs": [],
   "source": [
    "#NOW-- let's do it one more time, using just the most important features"
   ]
  },
  {
   "cell_type": "code",
   "execution_count": 140,
   "metadata": {
    "collapsed": true
   },
   "outputs": [],
   "source": [
    "#NOTE: (if we were really being statistically vigilant and had tons of data, we'd do this on a hold-out validation set)"
   ]
  },
  {
   "cell_type": "code",
   "execution_count": 125,
   "metadata": {
    "collapsed": false
   },
   "outputs": [],
   "source": [
    "#preparing dataframes for train-test-split\n",
    "#separate target variable and predictors\n",
    "X = logsvm_df[['tchyrs_0thru3_pct', 'class_teach_num', 'nbpts_num',\n",
    "       '_1yr_tchr_trnovr_pct', 'highqual_class_pct',\n",
    "       'lea_tchyrs_11plus_pct', 'lea_class_teach_num',\n",
    "       'lea_1yr_tchr_trnovr_pct', 'lea_highqual_class_pct',\n",
    "       'lea_highqual_class_lp_pct', 'lea_highqual_class_all_pct',\n",
    "       'lea_supplies_expense_pct', 'lea_instruct_equip_exp_pct',\n",
    "       'White_Pct_RACE', 'Asian_RACE_Pct', 'Hispanic_RACE_Pct',\n",
    "       'Black_RACE_Pct', 'Black_RACE_Male_Pct', 'White_RACE_Male_Pct']].astype(np.float32)\n",
    "y = logsvm_df['SPG Score Scaled']"
   ]
  },
  {
   "cell_type": "code",
   "execution_count": 126,
   "metadata": {
    "collapsed": true
   },
   "outputs": [],
   "source": [
    "#scale training predictors\n",
    "from sklearn.preprocessing import StandardScaler\n",
    "scaler = StandardScaler()\n",
    "scaler.fit(X)\n",
    "X = scaler.transform(X)"
   ]
  },
  {
   "cell_type": "code",
   "execution_count": 127,
   "metadata": {
    "collapsed": false
   },
   "outputs": [
    {
     "name": "stdout",
     "output_type": "stream",
     "text": [
      "MSE: 0.0074\n"
     ]
    }
   ],
   "source": [
    "#same hyperparameters\n",
    "params = {'n_estimators': 100, 'max_depth': 4, 'min_samples_split':2,\n",
    "          'learning_rate': 0.05, 'loss': 'ls'}\n",
    "\n",
    "#building that classifier\n",
    "clf_4 = ensemble.GradientBoostingRegressor(**params)\n",
    "\n",
    "#same old drill\n",
    "indices = range(2419)\n",
    "X_train, X_test, y_train, y_test, indices_train, indices_test = train_test_split(X, y, indices, test_size=0.2, random_state=333)\n",
    "\n",
    "#fit, hit, and quit\n",
    "clf_4.fit(X_train, y_train)\n",
    "\n",
    "#score it\n",
    "mse = mean_squared_error(y_test, clf_4.predict(X_test))\n",
    "print(\"MSE: %.4f\" % mse)"
   ]
  },
  {
   "cell_type": "code",
   "execution_count": 128,
   "metadata": {
    "collapsed": false
   },
   "outputs": [
    {
     "data": {
      "text/plain": [
       "<matplotlib.text.Text at 0x2aa718430f0>"
      ]
     },
     "execution_count": 128,
     "metadata": {},
     "output_type": "execute_result"
    },
    {
     "data": {
      "image/png": "[encoded data removed]",
      "text/plain": [
       "<matplotlib.figure.Figure at 0x2aa71738978>"
      ]
     },
     "metadata": {},
     "output_type": "display_data"
    }
   ],
   "source": [
    "#plot training/testing deviance\n",
    "\n",
    "#same deal as before\n",
    "test_score = np.zeros((params['n_estimators'],), dtype=np.float64)\n",
    "\n",
    "for i, y_pred in enumerate(clf_4.staged_predict(X_test)):\n",
    "    test_score[i] = clf_4.loss_(y_test, y_pred)\n",
    "\n",
    "plt.figure(figsize=(12, 6))\n",
    "plt.title('Deviance')\n",
    "plt.plot(np.arange(params['n_estimators']) + 1, clf_4.train_score_, 'b-',\n",
    "         label='Training Set Deviance')\n",
    "plt.plot(np.arange(params['n_estimators']) + 1, test_score, 'r-',\n",
    "         label='Test Set Deviance')\n",
    "plt.legend(loc='upper right')\n",
    "plt.xlabel('Boosting Iterations')\n",
    "plt.ylabel('Deviance')"
   ]
  },
  {
   "cell_type": "code",
   "execution_count": 130,
   "metadata": {
    "collapsed": false
   },
   "outputs": [
    {
     "data": {
      "image/png": "[encoded data removed]",
      "text/plain": [
       "<matplotlib.figure.Figure at 0x2aa71738908>"
      ]
     },
     "metadata": {},
     "output_type": "display_data"
    }
   ],
   "source": [
    "#plot feature importances scaled to their max value\n",
    "feature_importance = clf_4.feature_importances_\n",
    "\n",
    "feature_importance = 100.0 * (feature_importance / feature_importance.max())\n",
    "sorted_idx = np.argsort(feature_importance)\n",
    "pos = np.arange(sorted_idx.shape[0]) + .5\n",
    "\n",
    "plt.figure(figsize=(12, 12))\n",
    "plt.barh(pos, feature_importance[sorted_idx], align='center')\n",
    "plt.yticks(pos, feat_names[support_feat][sorted_idx])\n",
    "plt.xlabel('Relative Importance as Percentage of Maximum')\n",
    "plt.title('Variable Importance')\n",
    "plt.show()"
   ]
  },
  {
   "cell_type": "code",
   "execution_count": 131,
   "metadata": {
    "collapsed": false
   },
   "outputs": [
    {
     "data": {
      "image/png": "[encoded data removed]",
      "text/plain": [
       "<matplotlib.figure.Figure at 0x2aa71738f60>"
      ]
     },
     "metadata": {},
     "output_type": "display_data"
    }
   ],
   "source": [
    "#plot raw feature importances\n",
    "feature_importance = clf_4.feature_importances_\n",
    "sorted_idx = np.argsort(feature_importance)\n",
    "pos = np.arange(sorted_idx.shape[0]) + .5\n",
    "\n",
    "plt.figure(figsize=(12, 12))\n",
    "plt.barh(pos, feature_importance[sorted_idx], align='center')\n",
    "plt.yticks(pos, feat_names[support_feat][sorted_idx])\n",
    "plt.xlabel('Feature Weights')\n",
    "plt.title('Variable Importance')\n",
    "plt.show()"
   ]
  },
  {
   "cell_type": "code",
   "execution_count": 141,
   "metadata": {
    "collapsed": true
   },
   "outputs": [],
   "source": [
    "#This is definitely more interpretable-- but for keener inference, we should still check out partial dependency plots!"
   ]
  },
  {
   "cell_type": "code",
   "execution_count": null,
   "metadata": {
    "collapsed": true
   },
   "outputs": [],
   "source": []
  },
  {
   "cell_type": "code",
   "execution_count": 190,
   "metadata": {
    "collapsed": true
   },
   "outputs": [],
   "source": [
    "#Dense Neural Network Classification of A-Grade vs. F-Grade Performing Schools "
   ]
  },
  {
   "cell_type": "code",
   "execution_count": 191,
   "metadata": {
    "collapsed": true
   },
   "outputs": [],
   "source": [
    "#create categorization bins and names for scaled SPG Score\n",
    "bins = [0.0,0.4,0.55,0.7,0.85,1.0]\n",
    "group_names = ['F','D','C','B','A']\n",
    "\n",
    "#create SPG Score Grade feature, based on binned SPG Score\n",
    "logsvm_df['SPG Score_GRADE'] = pd.cut(logsvm_df['SPG Score Scaled'],bins,labels=group_names,include_lowest=True,right=False,precision=6)\n",
    "#logsvm_df['SPG Score_GRADE'].tail(20)\n",
    "\n",
    "#generate categorical codes: 0 = F, 1 = D, 2 = C, 3 = B, 4 = A\n",
    "logsvm_df['SPG Score_GRADE'] = logsvm_df['SPG Score_GRADE'].cat.codes\n",
    "#logsvm_df['SPG Score_GRADE'].tail(20)\n",
    "\n",
    "\n",
    "#preparing dataframes for train-test-split to build models; SPG Score_GRADE used as classification target\n",
    "#separate target variable and predictors, only selecting records with Grades A = 4 and F = 0\n",
    "X = logsvm_df[(logsvm_df['SPG Score_GRADE'] == 0) | (logsvm_df['SPG Score_GRADE'] == 4)]\n",
    "X = X.drop(['SPG Score_GRADE','SPG Score Scaled'],axis=1)\n",
    "y = logsvm_df['SPG Score_GRADE'][(logsvm_df['SPG Score_GRADE'] == 0) | (logsvm_df['SPG Score_GRADE'] == 4)]"
   ]
  },
  {
   "cell_type": "code",
   "execution_count": 192,
   "metadata": {
    "collapsed": false
   },
   "outputs": [
    {
     "name": "stdout",
     "output_type": "stream",
     "text": [
      "(255, 50)\n",
      "(255,)\n"
     ]
    }
   ],
   "source": [
    "#verifying correct shape\n",
    "print(X.shape)\n",
    "print(y.shape)"
   ]
  },
  {
   "cell_type": "code",
   "execution_count": 193,
   "metadata": {
    "collapsed": false
   },
   "outputs": [
    {
     "data": {
      "text/plain": [
       "4    136\n",
       "0    119\n",
       "Name: SPG Score_GRADE, dtype: int64"
      ]
     },
     "execution_count": 193,
     "metadata": {},
     "output_type": "execute_result"
    }
   ],
   "source": [
    "#checking frequency counts of A-Grade and F-Grade classes\n",
    "y.value_counts()"
   ]
  },
  {
   "cell_type": "code",
   "execution_count": 194,
   "metadata": {
    "collapsed": false
   },
   "outputs": [
    {
     "data": {
      "text/html": [
       "<div>\n",
       "<table border=\"1\" class=\"dataframe\">\n",
       "  <thead>\n",
       "    <tr style=\"text-align: right;\">\n",
       "      <th></th>\n",
       "      <th>SPG Score_GRADE</th>\n",
       "    </tr>\n",
       "  </thead>\n",
       "  <tbody>\n",
       "    <tr>\n",
       "      <th>116</th>\n",
       "      <td>4</td>\n",
       "    </tr>\n",
       "    <tr>\n",
       "      <th>139</th>\n",
       "      <td>4</td>\n",
       "    </tr>\n",
       "    <tr>\n",
       "      <th>175</th>\n",
       "      <td>4</td>\n",
       "    </tr>\n",
       "    <tr>\n",
       "      <th>183</th>\n",
       "      <td>4</td>\n",
       "    </tr>\n",
       "    <tr>\n",
       "      <th>186</th>\n",
       "      <td>4</td>\n",
       "    </tr>\n",
       "    <tr>\n",
       "      <th>218</th>\n",
       "      <td>0</td>\n",
       "    </tr>\n",
       "    <tr>\n",
       "      <th>220</th>\n",
       "      <td>4</td>\n",
       "    </tr>\n",
       "    <tr>\n",
       "      <th>246</th>\n",
       "      <td>4</td>\n",
       "    </tr>\n",
       "    <tr>\n",
       "      <th>261</th>\n",
       "      <td>4</td>\n",
       "    </tr>\n",
       "    <tr>\n",
       "      <th>294</th>\n",
       "      <td>4</td>\n",
       "    </tr>\n",
       "  </tbody>\n",
       "</table>\n",
       "</div>"
      ],
      "text/plain": [
       "     SPG Score_GRADE\n",
       "116                4\n",
       "139                4\n",
       "175                4\n",
       "183                4\n",
       "186                4\n",
       "218                0\n",
       "220                4\n",
       "246                4\n",
       "261                4\n",
       "294                4"
      ]
     },
     "execution_count": 194,
     "metadata": {},
     "output_type": "execute_result"
    }
   ],
   "source": [
    "#viewing target variable as a dataframe\n",
    "pd.DataFrame(y).head(10)"
   ]
  },
  {
   "cell_type": "code",
   "execution_count": 195,
   "metadata": {
    "collapsed": false
   },
   "outputs": [
    {
     "data": {
      "text/html": [
       "<div>\n",
       "<table border=\"1\" class=\"dataframe\">\n",
       "  <thead>\n",
       "    <tr style=\"text-align: right;\">\n",
       "      <th></th>\n",
       "      <th>SPG Score_GRADE</th>\n",
       "    </tr>\n",
       "  </thead>\n",
       "  <tbody>\n",
       "    <tr>\n",
       "      <th>116</th>\n",
       "      <td>1</td>\n",
       "    </tr>\n",
       "    <tr>\n",
       "      <th>139</th>\n",
       "      <td>1</td>\n",
       "    </tr>\n",
       "    <tr>\n",
       "      <th>175</th>\n",
       "      <td>1</td>\n",
       "    </tr>\n",
       "    <tr>\n",
       "      <th>183</th>\n",
       "      <td>1</td>\n",
       "    </tr>\n",
       "    <tr>\n",
       "      <th>186</th>\n",
       "      <td>1</td>\n",
       "    </tr>\n",
       "    <tr>\n",
       "      <th>218</th>\n",
       "      <td>0</td>\n",
       "    </tr>\n",
       "    <tr>\n",
       "      <th>220</th>\n",
       "      <td>1</td>\n",
       "    </tr>\n",
       "    <tr>\n",
       "      <th>246</th>\n",
       "      <td>1</td>\n",
       "    </tr>\n",
       "    <tr>\n",
       "      <th>261</th>\n",
       "      <td>1</td>\n",
       "    </tr>\n",
       "    <tr>\n",
       "      <th>294</th>\n",
       "      <td>1</td>\n",
       "    </tr>\n",
       "  </tbody>\n",
       "</table>\n",
       "</div>"
      ],
      "text/plain": [
       "     SPG Score_GRADE\n",
       "116                1\n",
       "139                1\n",
       "175                1\n",
       "183                1\n",
       "186                1\n",
       "218                0\n",
       "220                1\n",
       "246                1\n",
       "261                1\n",
       "294                1"
      ]
     },
     "execution_count": 195,
     "metadata": {},
     "output_type": "execute_result"
    }
   ],
   "source": [
    "#replacing A-Grade value (4) with 1 to facilitate binary classification below\n",
    "pd.DataFrame(y.replace(to_replace=4, value=1)).head(10)"
   ]
  },
  {
   "cell_type": "code",
   "execution_count": 196,
   "metadata": {
    "collapsed": false
   },
   "outputs": [
    {
     "data": {
      "text/html": [
       "<div>\n",
       "<table border=\"1\" class=\"dataframe\">\n",
       "  <thead>\n",
       "    <tr style=\"text-align: right;\">\n",
       "      <th></th>\n",
       "    </tr>\n",
       "  </thead>\n",
       "  <tbody>\n",
       "  </tbody>\n",
       "</table>\n",
       "</div>"
      ],
      "text/plain": [
       "Empty DataFrame\n",
       "Columns: []\n",
       "Index: []"
      ]
     },
     "execution_count": 196,
     "metadata": {},
     "output_type": "execute_result"
    }
   ],
   "source": [
    "#performing the above replacement mapping 'in place' to make it permanent\n",
    "pd.DataFrame(y.replace(to_replace=4, value=1, inplace=True))"
   ]
  },
  {
   "cell_type": "code",
   "execution_count": 197,
   "metadata": {
    "collapsed": false
   },
   "outputs": [
    {
     "data": {
      "text/plain": [
       "116    1\n",
       "139    1\n",
       "175    1\n",
       "183    1\n",
       "186    1\n",
       "218    0\n",
       "220    1\n",
       "246    1\n",
       "261    1\n",
       "294    1\n",
       "Name: SPG Score_GRADE, dtype: int8"
      ]
     },
     "execution_count": 197,
     "metadata": {},
     "output_type": "execute_result"
    }
   ],
   "source": [
    "#verifying replacement mapping\n",
    "y[:10]"
   ]
  },
  {
   "cell_type": "code",
   "execution_count": null,
   "metadata": {
    "collapsed": true
   },
   "outputs": [],
   "source": []
  },
  {
   "cell_type": "code",
   "execution_count": 205,
   "metadata": {
    "collapsed": false
   },
   "outputs": [],
   "source": [
    "#too legit 2 (not) train-test-split and quit\n",
    "indices = range(255)\n",
    "X_train, X_test, y_train, y_test, indices_train, indices_test = train_test_split(X, y, indices, test_size=0.2, random_state=555)"
   ]
  },
  {
   "cell_type": "code",
   "execution_count": 206,
   "metadata": {
    "collapsed": true
   },
   "outputs": [],
   "source": [
    "#needed imports for DNN classifier script below\n",
    "from __future__ import absolute_import\n",
    "from __future__ import division\n",
    "from __future__ import print_function\n",
    "import os\n",
    "import tensorflow as tf"
   ]
  },
  {
   "cell_type": "code",
   "execution_count": 207,
   "metadata": {
    "collapsed": true
   },
   "outputs": [],
   "source": [
    "#Dense Neural Net Binary Classifier (10 X 20 X 10 hidden layers) w/ rectified linear unit activation (500 training steps)"
   ]
  },
  {
   "cell_type": "code",
   "execution_count": 210,
   "metadata": {
    "collapsed": false
   },
   "outputs": [
    {
     "name": "stdout",
     "output_type": "stream",
     "text": [
      "INFO:tensorflow:Using default config.\n",
      "INFO:tensorflow:Using config: {'_model_dir': '/tmp/NN_model', '_tf_random_seed': None, '_save_summary_steps': 100, '_save_checkpoints_steps': None, '_save_checkpoints_secs': 600, '_session_config': None, '_keep_checkpoint_max': 5, '_keep_checkpoint_every_n_hours': 10000, '_log_step_count_steps': 100, '_service': None, '_cluster_spec': <tensorflow.python.training.server_lib.ClusterSpec object at 0x000002AA75CD69B0>, '_task_type': 'worker', '_task_id': 0, '_master': '', '_is_chief': True, '_num_ps_replicas': 0, '_num_worker_replicas': 1}\n",
      "INFO:tensorflow:Create CheckpointSaverHook.\n",
      "INFO:tensorflow:Restoring parameters from /tmp/NN_model\\model.ckpt-139000\n",
      "INFO:tensorflow:Saving checkpoints for 139001 into /tmp/NN_model\\model.ckpt.\n",
      "INFO:tensorflow:loss = 6.92923, step = 139001\n",
      "INFO:tensorflow:global_step/sec: 720.107\n",
      "INFO:tensorflow:loss = 4.80946, step = 139101 (0.140 sec)\n",
      "INFO:tensorflow:global_step/sec: 957.481\n",
      "INFO:tensorflow:loss = 4.00356, step = 139201 (0.105 sec)\n",
      "INFO:tensorflow:global_step/sec: 945.347\n",
      "INFO:tensorflow:loss = 9.76539, step = 139301 (0.108 sec)\n",
      "INFO:tensorflow:global_step/sec: 958.963\n",
      "INFO:tensorflow:loss = 8.44274, step = 139401 (0.102 sec)\n",
      "INFO:tensorflow:Saving checkpoints for 139500 into /tmp/NN_model\\model.ckpt.\n",
      "INFO:tensorflow:Loss for final step: 12.6289.\n",
      "WARNING:tensorflow:Casting <dtype: 'float32'> labels to bool.\n",
      "WARNING:tensorflow:Casting <dtype: 'float32'> labels to bool.\n",
      "INFO:tensorflow:Starting evaluation at 2018-03-09-05:11:01\n",
      "INFO:tensorflow:Restoring parameters from /tmp/NN_model\\model.ckpt-139500\n",
      "INFO:tensorflow:Finished evaluation at 2018-03-09-05:11:02\n",
      "INFO:tensorflow:Saving dict for global step 139500: accuracy = 0.980392, accuracy_baseline = 0.54902, auc = 1.0, auc_precision_recall = 1.0, average_loss = 0.0294911, global_step = 139500, label/mean = 0.54902, loss = 1.50405, prediction/mean = 0.557624\n",
      "\n",
      "Test Accuracy: 0.980392\n",
      "\n"
     ]
    }
   ],
   "source": [
    "def main():\n",
    "    \n",
    "    # Specify that all features have real-value data\n",
    "    feature_columns = [tf.feature_column.numeric_column(\"x\", shape=[50])]\n",
    "\n",
    "    # Build 3 layer DNN with 10, 20, 10 units respectively.\n",
    "    classifier = tf.estimator.DNNClassifier(feature_columns=feature_columns,\n",
    "                                          hidden_units=[10, 20, 10],\n",
    "                                          n_classes=2,\n",
    "                                          model_dir=\"/tmp/NN_model\")\n",
    "\n",
    "    # Define the training inputs\n",
    "    train_input_fn = tf.estimator.inputs.numpy_input_fn(\n",
    "        x={\"x\": np.array(X_train)},\n",
    "        y=np.array(y_train),\n",
    "        num_epochs=None,\n",
    "        shuffle=True)\n",
    "\n",
    "    # Train model\n",
    "    classifier.train(input_fn=train_input_fn, steps=500)\n",
    "\n",
    "    # Define the test inputs\n",
    "    test_input_fn = tf.estimator.inputs.numpy_input_fn(\n",
    "        x={\"x\": np.array(X_test)},\n",
    "        y=np.array(y_test),\n",
    "        num_epochs=1,\n",
    "        shuffle=False)\n",
    "\n",
    "    # Evaluate accuracy\n",
    "    accuracy_score = classifier.evaluate(input_fn=test_input_fn)[\"accuracy\"]\n",
    "    print(\"\\nTest Accuracy: {0:f}\\n\".format(accuracy_score))\n",
    "    \n",
    "if __name__ == \"__main__\":\n",
    "    main()"
   ]
  },
  {
   "cell_type": "code",
   "execution_count": null,
   "metadata": {
    "collapsed": false
   },
   "outputs": [],
   "source": []
  }
 ],
 "metadata": {
  "kernelspec": {
   "display_name": "Python 3",
   "language": "python",
   "name": "python3"
  },
  "language_info": {
   "codemirror_mode": {
    "name": "ipython",
    "version": 3
   },
   "file_extension": ".py",
   "mimetype": "text/x-python",
   "name": "python",
   "nbconvert_exporter": "python",
   "pygments_lexer": "ipython3",
   "version": "3.6.0"
  }
 },
 "nbformat": 4,
 "nbformat_minor": 2
}
